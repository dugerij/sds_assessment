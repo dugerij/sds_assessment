{
 "cells": [
  {
   "cell_type": "code",
   "execution_count": 1,
   "id": "d5e153f4",
   "metadata": {},
   "outputs": [],
   "source": [
    "import pandas as pd\n",
    "import sqlite3"
   ]
  },
  {
   "cell_type": "code",
   "execution_count": 2,
   "id": "c290fcdb",
   "metadata": {},
   "outputs": [],
   "source": [
    "conn = sqlite3.connect('bikers.db') # Create a database and connect to it\n",
    "cursor = conn.cursor()"
   ]
  },
  {
   "cell_type": "code",
   "execution_count": null,
   "id": "c9868b0f",
   "metadata": {},
   "outputs": [
    {
     "ename": "TypeError",
     "evalue": "read_csv() got an unexpected keyword argument 'parse_date'",
     "output_type": "error",
     "traceback": [
      "\u001b[31m---------------------------------------------------------------------------\u001b[39m",
      "\u001b[31mTypeError\u001b[39m                                 Traceback (most recent call last)",
      "\u001b[36mCell\u001b[39m\u001b[36m \u001b[39m\u001b[32mIn[3]\u001b[39m\u001b[32m, line 1\u001b[39m\n\u001b[32m----> \u001b[39m\u001b[32m1\u001b[39m df = \u001b[43mpd\u001b[49m\u001b[43m.\u001b[49m\u001b[43mread_csv\u001b[49m\u001b[43m(\u001b[49m\u001b[33;43m'\u001b[39;49m\u001b[33;43mdata/BikerDatav2.csv\u001b[39;49m\u001b[33;43m'\u001b[39;49m\u001b[43m,\u001b[49m\u001b[43m \u001b[49m\u001b[43mparse_date\u001b[49m\u001b[43m=\u001b[49m\u001b[43m[\u001b[49m\u001b[33;43m'\u001b[39;49m\u001b[33;43mstart_time\u001b[39;49m\u001b[33;43m'\u001b[39;49m\u001b[43m]\u001b[49m\u001b[43m)\u001b[49m\n\u001b[32m      2\u001b[39m df.info()\n",
      "\u001b[31mTypeError\u001b[39m: read_csv() got an unexpected keyword argument 'parse_date'"
     ]
    }
   ],
   "source": [
    "df = pd.read_csv('data/BikerDatav2.csv', parse_dates=['start_time'])\n",
    "df.info()"
   ]
  },
  {
   "cell_type": "code",
   "execution_count": null,
   "id": "13b315f9",
   "metadata": {},
   "outputs": [
    {
     "data": {
      "text/plain": [
       "[]"
      ]
     },
     "execution_count": 4,
     "metadata": {},
     "output_type": "execute_result"
    }
   ],
   "source": [
    "table_name = 'bikers'\n",
    "int_cols = ['trip_id', 'start_station_id', 'end_station_id', 'duration_minutes']\n",
    "timestamp_cols = ['start_time']\n",
    "\n",
    "columns_with_types = \", \".join([\n",
    "    f\"{col.replace(' ', '_')} \" +\n",
    "    (\"INTEGER\" if col in int_cols else\n",
    "     \"TIMESTAMP\" if col in timestamp_cols else\n",
    "     \"STRING\")\n",
    "    for col in df.columns\n",
    "])\n",
    "\n",
    "create_table_query = f\"CREATE TABLE IF NOT EXISTS {table_name} ({columns_with_types});\"\n",
    "\n",
    "cursor.execute(create_table_query)\n",
    "cursor.fetchall()"
   ]
  },
  {
   "cell_type": "code",
   "execution_count": null,
   "id": "0a53478d",
   "metadata": {},
   "outputs": [
    {
     "data": {
      "text/plain": [
       "[(0, 'trip_id', 'INTEGER', 0, None, 0),\n",
       " (1, 'subscriber_type', 'STRING', 0, None, 0),\n",
       " (2, 'bikeid', 'STRING', 0, None, 0),\n",
       " (3, 'start_time', 'TIMESTAMP', 0, None, 0),\n",
       " (4, 'start_station_id', 'INTEGER', 0, None, 0),\n",
       " (5, 'start_station_name', 'STRING', 0, None, 0),\n",
       " (6, 'end_station_id', 'INTEGER', 0, None, 0),\n",
       " (7, 'end_station_name', 'STRING', 0, None, 0),\n",
       " (8, 'duration_minutes', 'INTEGER', 0, None, 0)]"
      ]
     },
     "execution_count": 5,
     "metadata": {},
     "output_type": "execute_result"
    }
   ],
   "source": [
    "cursor.execute('pragma table_info(bikers);')\n",
    "cursor.fetchall()"
   ]
  },
  {
   "cell_type": "code",
   "execution_count": null,
   "id": "c4440bbd",
   "metadata": {},
   "outputs": [],
   "source": [
    "for index, row in df.iterrows():\n",
    "    values = \", \".join([f'\"{row_item}\"' for row_item in row])\n",
    "    insert_sql = f\"INSERT INTO {table_name} ({', '.join(df.columns.str.replace(' ', '_'))}) VALUES ({values})\"\n",
    "    cursor.execute(insert_sql)\n"
   ]
  },
  {
   "cell_type": "code",
   "execution_count": null,
   "id": "8a5fe236",
   "metadata": {},
   "outputs": [
    {
     "data": {
      "text/plain": [
       "[(5619,)]"
      ]
     },
     "execution_count": 7,
     "metadata": {},
     "output_type": "execute_result"
    }
   ],
   "source": [
    "cursor.execute('SELECT COUNT(*) FROM bikers')\n",
    "cursor.fetchall()"
   ]
  },
  {
   "cell_type": "code",
   "execution_count": null,
   "id": "33067875",
   "metadata": {},
   "outputs": [
    {
     "data": {
      "text/plain": [
       "(5619, 9)"
      ]
     },
     "execution_count": 8,
     "metadata": {},
     "output_type": "execute_result"
    }
   ],
   "source": [
    "df.shape"
   ]
  },
  {
   "cell_type": "code",
   "execution_count": null,
   "id": "304e5e0b",
   "metadata": {},
   "outputs": [],
   "source": [
    "conn.commit()"
   ]
  },
  {
   "cell_type": "markdown",
   "id": "d7ee7bf0",
   "metadata": {},
   "source": [
    "- On which day of the week do we on average have the longest trip?\n",
    "-  What month/year has the most bike trips and what is the count of the trips?\n",
    "- In the same table, return which particular trip has longest duration and the trip that has\n",
    "    the shortest duration (return all the information(columns) on the table for this record)\n",
    "    If more than 1 record has the same duration, return the earliest trip [start time]\n",
    "    NB: Exclude 'Missing' and 'Stolen' as values in the end_station_name column.\n",
    "    Exclude trips that start and end at the same station.\n",
    "    Your final output will be 2 rows"
   ]
  },
  {
   "cell_type": "code",
   "execution_count": null,
   "id": "e9e5e68b",
   "metadata": {},
   "outputs": [
    {
     "data": {
      "text/plain": [
       "[('0', None, 79.10338517840805)]"
      ]
     },
     "execution_count": 15,
     "metadata": {},
     "output_type": "execute_result"
    }
   ],
   "source": [
    "# Execute SQL query\n",
    "query1 = \"\"\"\n",
    "SELECT \n",
    "    strftime('%w', substr(start_time, 1, 19)) AS weekday,\n",
    "    strftime('%A', substr(start_time, 1, 19)) AS weekday_name,\n",
    "    AVG(duration_minutes) AS avg_duration\n",
    "FROM bikers\n",
    "GROUP BY weekday, weekday_name\n",
    "ORDER BY avg_duration DESC\n",
    "LIMIT 1;\n",
    "\"\"\"\n",
    "cursor.execute(query1)\n",
    "cursor.fetchall()"
   ]
  },
  {
   "cell_type": "code",
   "execution_count": null,
   "id": "edcda42c",
   "metadata": {},
   "outputs": [
    {
     "data": {
      "text/plain": [
       "[(None, None, 2676)]"
      ]
     },
     "execution_count": 11,
     "metadata": {},
     "output_type": "execute_result"
    }
   ],
   "source": [
    "query2 = \"\"\"\n",
    "SELECT \n",
    "    strftime('%Y', start_time) AS year,\n",
    "    strftime('%m', start_time) AS month,\n",
    "    COUNT(*) AS trip_count\n",
    "FROM bikers\n",
    "WHERE end_station_name NOT IN ('Missing', 'Stolen')\n",
    "  AND start_station_id != end_station_id\n",
    "GROUP BY year, month\n",
    "ORDER BY trip_count DESC\n",
    "LIMIT 1;\n",
    "\"\"\"\n",
    "\n",
    "cursor.execute(query2)\n",
    "cursor.fetchall()"
   ]
  },
  {
   "cell_type": "code",
   "execution_count": null,
   "id": "254b7d3a",
   "metadata": {},
   "outputs": [
    {
     "data": {
      "text/plain": [
       "[(21473408,\n",
       "  'Pay-as-you-ride',\n",
       "  460,\n",
       "  '2020-01-15 09:14:08 UTC',\n",
       "  2822,\n",
       "  'East 6th/Robert T. Martinez',\n",
       "  2544,\n",
       "  'East 6th/Pedernales',\n",
       "  2,\n",
       "  1,\n",
       "  2462),\n",
       " (21577822,\n",
       "  '24 Hour Walk Up Pass',\n",
       "  2095,\n",
       "  '2020-02-16 04:37:00 UTC',\n",
       "  4054,\n",
       "  'Rosewood/Chicon',\n",
       "  4058,\n",
       "  'Hollow Creek/Barton Hills',\n",
       "  11810,\n",
       "  2676,\n",
       "  1)]"
      ]
     },
     "execution_count": 12,
     "metadata": {},
     "output_type": "execute_result"
    }
   ],
   "source": [
    "query3 = \"\"\"\n",
    "WITH cleaned_data AS (\n",
    "    SELECT *\n",
    "    FROM bikers\n",
    "    WHERE end_station_name NOT IN ('Missing', 'Stolen')\n",
    "      AND start_station_id != end_station_id\n",
    "),\n",
    "ranked_trips AS (\n",
    "    SELECT *,\n",
    "        RANK() OVER (ORDER BY duration_minutes ASC, start_time ASC) AS shortest_rank,\n",
    "        RANK() OVER (ORDER BY duration_minutes DESC, start_time ASC) AS longest_rank\n",
    "    FROM cleaned_data\n",
    ")\n",
    "SELECT * FROM ranked_trips\n",
    "WHERE shortest_rank = 1\n",
    "   OR longest_rank = 1;\n",
    "\"\"\"\n",
    "\n",
    "cursor.execute(query3)\n",
    "cursor.fetchall()"
   ]
  },
  {
   "cell_type": "code",
   "execution_count": null,
   "id": "9807a410",
   "metadata": {},
   "outputs": [
    {
     "data": {
      "text/plain": [
       "[('2020-12-10 14:52:24 UTC', None),\n",
       " ('2020-12-18 15:43:07 UTC', None),\n",
       " ('2020-12-20 15:44:21 UTC', None),\n",
       " ('2021-08-08 17:31:07 UTC', None),\n",
       " ('2021-08-03 14:34:41 UTC', None)]"
      ]
     },
     "execution_count": 13,
     "metadata": {},
     "output_type": "execute_result"
    }
   ],
   "source": [
    "query4=\"\"\"\n",
    "SELECT start_time, strftime('%A', start_time)\n",
    "FROM bikers\n",
    "LIMIT 5;\n",
    "\"\"\"\n",
    "cursor.execute(query4)\n",
    "cursor.fetchall()"
   ]
  }
 ],
 "metadata": {
  "kernelspec": {
   "display_name": "venv",
   "language": "python",
   "name": "python3"
  },
  "language_info": {
   "codemirror_mode": {
    "name": "ipython",
    "version": 3
   },
   "file_extension": ".py",
   "mimetype": "text/x-python",
   "name": "python",
   "nbconvert_exporter": "python",
   "pygments_lexer": "ipython3",
   "version": "3.11.7"
  }
 },
 "nbformat": 4,
 "nbformat_minor": 5
}
