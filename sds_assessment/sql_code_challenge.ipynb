{
 "cells": [
  {
   "cell_type": "code",
   "execution_count": 1,
   "id": "d5e153f4",
   "metadata": {},
   "outputs": [],
   "source": [
    "import pandas as pd\n",
    "import sqlite3"
   ]
  },
  {
   "cell_type": "code",
   "execution_count": 2,
   "id": "c290fcdb",
   "metadata": {},
   "outputs": [],
   "source": [
    "# Create a database and connect to it\n",
    "conn = sqlite3.connect('bikers.db') \n",
    "cursor = conn.cursor()"
   ]
  },
  {
   "cell_type": "code",
   "execution_count": 3,
   "id": "c9868b0f",
   "metadata": {},
   "outputs": [
    {
     "name": "stdout",
     "output_type": "stream",
     "text": [
      "<class 'pandas.core.frame.DataFrame'>\n",
      "RangeIndex: 5619 entries, 0 to 5618\n",
      "Data columns (total 9 columns):\n",
      " #   Column              Non-Null Count  Dtype              \n",
      "---  ------              --------------  -----              \n",
      " 0   trip_id             5619 non-null   int64              \n",
      " 1   subscriber_type     5616 non-null   object             \n",
      " 2   bikeid              5619 non-null   object             \n",
      " 3   start_time          5619 non-null   datetime64[ns, UTC]\n",
      " 4   start_station_id    5619 non-null   int64              \n",
      " 5   start_station_name  5619 non-null   object             \n",
      " 6   end_station_id      5619 non-null   int64              \n",
      " 7   end_station_name    5619 non-null   object             \n",
      " 8   duration_minutes    5619 non-null   int64              \n",
      "dtypes: datetime64[ns, UTC](1), int64(4), object(4)\n",
      "memory usage: 395.2+ KB\n"
     ]
    }
   ],
   "source": [
    "# Load data into Pandas dataframe\n",
    "df = pd.read_csv('data/BikerDatav2.csv')\n",
    "# clean datetime column\n",
    "df['start_time'] = pd.to_datetime(df['start_time'], utc=True) \n",
    "df.info()"
   ]
  },
  {
   "cell_type": "code",
   "execution_count": 4,
   "id": "13b315f9",
   "metadata": {},
   "outputs": [
    {
     "data": {
      "text/plain": [
       "[]"
      ]
     },
     "execution_count": 4,
     "metadata": {},
     "output_type": "execute_result"
    }
   ],
   "source": [
    "# Table creation\n",
    "table_name = 'bikers'\n",
    "int_cols = ['trip_id', 'start_station_id', 'end_station_id', 'duration_minutes']\n",
    "timestamp_cols = ['start_time']\n",
    "\n",
    "columns_with_types = \", \".join([\n",
    "    f\"{col.replace(' ', '_')} \" +\n",
    "    (\"INTEGER\" if col in int_cols else\n",
    "     \"TIMESTAMP\" if col in timestamp_cols else\n",
    "     \"STRING\")\n",
    "    for col in df.columns\n",
    "])\n",
    "\n",
    "create_table_query = f\"CREATE TABLE IF NOT EXISTS {table_name} ({columns_with_types});\"\n",
    "\n",
    "cursor.execute(create_table_query)\n",
    "cursor.fetchall()"
   ]
  },
  {
   "cell_type": "code",
   "execution_count": 5,
   "id": "0a53478d",
   "metadata": {},
   "outputs": [
    {
     "data": {
      "text/plain": [
       "[(0, 'trip_id', 'INTEGER', 0, None, 0),\n",
       " (1, 'subscriber_type', 'STRING', 0, None, 0),\n",
       " (2, 'bikeid', 'STRING', 0, None, 0),\n",
       " (3, 'start_time', 'TIMESTAMP', 0, None, 0),\n",
       " (4, 'start_station_id', 'INTEGER', 0, None, 0),\n",
       " (5, 'start_station_name', 'STRING', 0, None, 0),\n",
       " (6, 'end_station_id', 'INTEGER', 0, None, 0),\n",
       " (7, 'end_station_name', 'STRING', 0, None, 0),\n",
       " (8, 'duration_minutes', 'INTEGER', 0, None, 0)]"
      ]
     },
     "execution_count": 5,
     "metadata": {},
     "output_type": "execute_result"
    }
   ],
   "source": [
    "cursor.execute('pragma table_info(bikers);')\n",
    "cursor.fetchall()"
   ]
  },
  {
   "cell_type": "code",
   "execution_count": 6,
   "id": "c4440bbd",
   "metadata": {},
   "outputs": [],
   "source": [
    "# Enter data from datframe in SQL table\n",
    "for index, row in df.iterrows():\n",
    "    values = \", \".join([f'\"{row_item}\"' for row_item in row])\n",
    "    insert_sql = f\"INSERT INTO {table_name} ({', '.join(df.columns.str.replace(' ', '_'))}) VALUES ({values})\"\n",
    "    cursor.execute(insert_sql)\n"
   ]
  },
  {
   "cell_type": "code",
   "execution_count": 7,
   "id": "8a5fe236",
   "metadata": {},
   "outputs": [
    {
     "data": {
      "text/plain": [
       "[(5619,)]"
      ]
     },
     "execution_count": 7,
     "metadata": {},
     "output_type": "execute_result"
    }
   ],
   "source": [
    "# test that all is set up\n",
    "cursor.execute('SELECT COUNT(*) FROM bikers')\n",
    "cursor.fetchall()"
   ]
  },
  {
   "cell_type": "code",
   "execution_count": 8,
   "id": "33067875",
   "metadata": {},
   "outputs": [
    {
     "data": {
      "text/plain": [
       "(5619, 9)"
      ]
     },
     "execution_count": 8,
     "metadata": {},
     "output_type": "execute_result"
    }
   ],
   "source": [
    "# comapre with dataframe shape\n",
    "df.shape"
   ]
  },
  {
   "cell_type": "code",
   "execution_count": 9,
   "id": "304e5e0b",
   "metadata": {},
   "outputs": [],
   "source": [
    "conn.commit()"
   ]
  },
  {
   "cell_type": "markdown",
   "id": "d7ee7bf0",
   "metadata": {},
   "source": [
    "### Questions\n",
    "- On which day of the week do we on average have the longest trip?\n",
    "-  What month/year has the most bike trips and what is the count of the trips?\n",
    "- In the same table, return which particular trip has longest duration and the trip that has\n",
    "    the shortest duration (return all the information(columns) on the table for this record)\n",
    "    If more than 1 record has the same duration, return the earliest trip [start time]\n",
    "    NB: Exclude 'Missing' and 'Stolen' as values in the end_station_name column.\n",
    "    Exclude trips that start and end at the same station.\n",
    "    Your final output will be 2 rows"
   ]
  },
  {
   "cell_type": "code",
   "execution_count": 10,
   "id": "e9e5e68b",
   "metadata": {},
   "outputs": [
    {
     "data": {
      "text/plain": [
       "[('0', 'Sunday', 79.10338517840805)]"
      ]
     },
     "execution_count": 10,
     "metadata": {},
     "output_type": "execute_result"
    }
   ],
   "source": [
    "# Execute SQL query\n",
    "query1 = \"\"\"\n",
    "SELECT \n",
    "    strftime('%w', start_time) AS weekday,\n",
    "    CASE strftime('%w', substr(start_time, 1, 19))\n",
    "        WHEN '0' THEN 'Sunday'\n",
    "        WHEN '1' THEN 'Monday'\n",
    "        WHEN '2' THEN 'Tuesday'\n",
    "        WHEN '3' THEN 'Wednesday'\n",
    "        WHEN '4' THEN 'Thursday'\n",
    "        WHEN '5' THEN 'Friday'\n",
    "        WHEN '6' THEN 'Saturday'\n",
    "    END AS weekday_name,\n",
    "    AVG(duration_minutes) AS avg_duration\n",
    "FROM bikers\n",
    "GROUP BY weekday\n",
    "ORDER BY avg_duration DESC\n",
    "LIMIT 1;\n",
    "\"\"\"\n",
    "cursor.execute(query1)\n",
    "cursor.fetchall()"
   ]
  },
  {
   "cell_type": "code",
   "execution_count": 11,
   "id": "edcda42c",
   "metadata": {},
   "outputs": [
    {
     "data": {
      "text/plain": [
       "[('2020', '09', 530)]"
      ]
     },
     "execution_count": 11,
     "metadata": {},
     "output_type": "execute_result"
    }
   ],
   "source": [
    "query2 = \"\"\"\n",
    "SELECT \n",
    "    strftime('%Y', start_time) AS year,\n",
    "    strftime('%m', start_time) AS month,\n",
    "    COUNT(*) AS trip_count\n",
    "FROM bikers\n",
    "GROUP BY year, month\n",
    "ORDER BY trip_count DESC\n",
    "LIMIT 1;\n",
    "\"\"\"\n",
    "\n",
    "cursor.execute(query2)\n",
    "cursor.fetchall()"
   ]
  },
  {
   "cell_type": "code",
   "execution_count": 12,
   "id": "254b7d3a",
   "metadata": {},
   "outputs": [
    {
     "data": {
      "text/plain": [
       "[(21473408,\n",
       "  'Pay-as-you-ride',\n",
       "  460,\n",
       "  '2020-01-15 09:14:08+00:00',\n",
       "  2822,\n",
       "  'East 6th/Robert T. Martinez',\n",
       "  2544,\n",
       "  'East 6th/Pedernales',\n",
       "  2,\n",
       "  1,\n",
       "  2462),\n",
       " (21577822,\n",
       "  '24 Hour Walk Up Pass',\n",
       "  2095,\n",
       "  '2020-02-16 04:37:00+00:00',\n",
       "  4054,\n",
       "  'Rosewood/Chicon',\n",
       "  4058,\n",
       "  'Hollow Creek/Barton Hills',\n",
       "  11810,\n",
       "  2676,\n",
       "  1)]"
      ]
     },
     "execution_count": 12,
     "metadata": {},
     "output_type": "execute_result"
    }
   ],
   "source": [
    "query3 = \"\"\"\n",
    "WITH cleaned_data AS (\n",
    "    SELECT *\n",
    "    FROM bikers\n",
    "    WHERE end_station_name NOT IN ('Missing', 'Stolen')\n",
    "      AND start_station_id != end_station_id\n",
    "),\n",
    "ranked_trips AS (\n",
    "    SELECT *,\n",
    "        RANK() OVER (ORDER BY duration_minutes ASC, start_time ASC) AS shortest_rank,\n",
    "        RANK() OVER (ORDER BY duration_minutes DESC, start_time ASC) AS longest_rank\n",
    "    FROM cleaned_data\n",
    ")\n",
    "SELECT * FROM ranked_trips\n",
    "WHERE shortest_rank = 1\n",
    "   OR longest_rank = 1;\n",
    "\"\"\"\n",
    "\n",
    "cursor.execute(query3)\n",
    "cursor.fetchall()"
   ]
  }
 ],
 "metadata": {
  "kernelspec": {
   "display_name": "Python 3",
   "language": "python",
   "name": "python3"
  },
  "language_info": {
   "codemirror_mode": {
    "name": "ipython",
    "version": 3
   },
   "file_extension": ".py",
   "mimetype": "text/x-python",
   "name": "python",
   "nbconvert_exporter": "python",
   "pygments_lexer": "ipython3",
   "version": "3.11.7"
  }
 },
 "nbformat": 4,
 "nbformat_minor": 5
}
